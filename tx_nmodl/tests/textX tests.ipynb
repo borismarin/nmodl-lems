{
 "cells": [
  {
   "cell_type": "code",
   "execution_count": 1,
   "metadata": {
    "collapsed": true,
    "deletable": true,
    "editable": true
   },
   "outputs": [],
   "source": [
    "from functools import singledispatch\n",
    "from textx import metamodel"
   ]
  },
  {
   "cell_type": "code",
   "execution_count": 44,
   "metadata": {
    "collapsed": false,
    "deletable": true,
    "editable": true
   },
   "outputs": [],
   "source": [
    "mm = metamodel.metamodel_from_str('''\n",
    "Program: statements*=Statement;\n",
    "Statement: (PrintStatement | AssignmentStatement);\n",
    "PrintStatement: 'print' var=ID;\n",
    "AssignmentStatement: var=ID '=' expr=Expression;\n",
    "Expression: Addition;\n",
    "Addition: Multiplication (('+'|'-') Multiplication)*;\n",
    "Multiplication: Atom (('*'|'/') Atom)*;\n",
    "//Atom: ID ('(' Expression ')') | ('(' Expression ')') | ID | INT ; \n",
    "Atom: FuncCall | Paren | Variable | Literal ;\n",
    "FuncCall: func=ID ('(' args=Expression ')');\n",
    "Variable: ID;\n",
    "Literal: value=INT;\n",
    "Paren: '(' expr=Expression ')';\n",
    "''')"
   ]
  },
  {
   "cell_type": "code",
   "execution_count": null,
   "metadata": {
    "collapsed": false,
    "deletable": true,
    "editable": true
   },
   "outputs": [],
   "source": []
  },
  {
   "cell_type": "code",
   "execution_count": null,
   "metadata": {
    "collapsed": true,
    "deletable": true,
    "editable": true
   },
   "outputs": [],
   "source": []
  },
  {
   "cell_type": "code",
   "execution_count": 45,
   "metadata": {
    "collapsed": false,
    "deletable": true,
    "editable": true
   },
   "outputs": [],
   "source": [
    "def t(name):\n",
    "    return mm.namespaces[None][name]\n",
    "\n",
    "@singledispatch\n",
    "def unparse(x):\n",
    "    pass\n",
    "    \n",
    "@unparse.register(str)\n",
    "def _(lit):\n",
    "    return lit\n",
    "    \n",
    "@unparse.register(int)\n",
    "def _(lit):\n",
    "    return lit\n",
    "\n",
    "@unparse.register(t('Program'))\n",
    "def _(program):\n",
    "    for st in program.statements:\n",
    "        print(unparse(st))\n",
    "        \n",
    "@unparse.register(t('Expression'))\n",
    "def _(exp):\n",
    "    return unparse(exp)\n",
    "\n",
    "@unparse.register(t('AssignmentStatement'))\n",
    "def _(assign):\n",
    "    1/0\n",
    "    return  assign.var + ' = ' + unparse(assign.expr)\n",
    "          \n",
    "@unparse.register(t('Addition'))\n",
    "def _(add):\n",
    "    1/0\n",
    "    return unparse(add.left) + ' + ' + unparse(add.right)\n",
    "    \n",
    "@unparse.register(t('Multiplication'))\n",
    "def _(mult):\n",
    "    1/0\n",
    "    return unparse(mult.left) + ' * ' + unparse(mult.right)\n",
    "\n",
    "@unparse.register(t('FuncCall'))\n",
    "def _(func):\n",
    "    1/0\n",
    "    return func.func + '(' + unparse(func.args) + ')' \n",
    "\n",
    "@unparse.register(t('Paren'))\n",
    "def _(paren):\n",
    "    1/0\n",
    "    return '(' + unparse(paren.expr) + ')' \n",
    "\n",
    "@unparse.register(t('Literal'))\n",
    "def _(lit):\n",
    "    return str(lit.value)\n",
    "\n",
    "    \n",
    "#@unparse.register(t('Atom'))\n",
    "#def _(atom):\n",
    "#    return (atom)\n"
   ]
  },
  {
   "cell_type": "code",
   "execution_count": 46,
   "metadata": {
    "collapsed": false,
    "deletable": true,
    "editable": true
   },
   "outputs": [
    {
     "name": "stdout",
     "output_type": "stream",
     "text": [
      "<textx:Literal object at 0x10b9f46d8>\n"
     ]
    },
    {
     "ename": "ZeroDivisionError",
     "evalue": "division by zero",
     "output_type": "error",
     "traceback": [
      "\u001b[0;31m---------------------------------------------------------------------------\u001b[0m",
      "\u001b[0;31mZeroDivisionError\u001b[0m                         Traceback (most recent call last)",
      "\u001b[0;32m<ipython-input-46-b5a9c6e469cc>\u001b[0m in \u001b[0;36m<module>\u001b[0;34m()\u001b[0m\n\u001b[1;32m      1\u001b[0m \u001b[0mprint\u001b[0m\u001b[0;34m(\u001b[0m\u001b[0mmm\u001b[0m\u001b[0;34m.\u001b[0m\u001b[0mmodel_from_str\u001b[0m\u001b[0;34m(\u001b[0m\u001b[0;34m'a=1+sin(1)'\u001b[0m\u001b[0;34m)\u001b[0m\u001b[0;34m.\u001b[0m\u001b[0mstatements\u001b[0m\u001b[0;34m[\u001b[0m\u001b[0;36m0\u001b[0m\u001b[0;34m]\u001b[0m\u001b[0;34m.\u001b[0m\u001b[0mexpr\u001b[0m\u001b[0;34m)\u001b[0m\u001b[0;34m\u001b[0m\u001b[0m\n\u001b[0;32m----> 2\u001b[0;31m \u001b[0mprint\u001b[0m\u001b[0;34m(\u001b[0m\u001b[0munparse\u001b[0m\u001b[0;34m(\u001b[0m\u001b[0mmm\u001b[0m\u001b[0;34m.\u001b[0m\u001b[0mmodel_from_str\u001b[0m\u001b[0;34m(\u001b[0m\u001b[0;34m'a=sin(1)+1'\u001b[0m\u001b[0;34m)\u001b[0m\u001b[0;34m.\u001b[0m\u001b[0mstatements\u001b[0m\u001b[0;34m[\u001b[0m\u001b[0;36m0\u001b[0m\u001b[0;34m]\u001b[0m\u001b[0;34m.\u001b[0m\u001b[0mexpr\u001b[0m\u001b[0;34m)\u001b[0m\u001b[0;34m)\u001b[0m\u001b[0;34m\u001b[0m\u001b[0m\n\u001b[0m\u001b[1;32m      3\u001b[0m \u001b[0munparse\u001b[0m\u001b[0;34m(\u001b[0m\u001b[0mmm\u001b[0m\u001b[0;34m.\u001b[0m\u001b[0mmodel_from_str\u001b[0m\u001b[0;34m(\u001b[0m\u001b[0;34m'x=(1+1)*2*sin(exp(x)/2)'\u001b[0m\u001b[0;34m)\u001b[0m\u001b[0;34m)\u001b[0m\u001b[0;34m\u001b[0m\u001b[0m\n",
      "\u001b[0;32m/usr/local/Cellar/python3/3.5.1/Frameworks/Python.framework/Versions/3.5/lib/python3.5/functools.py\u001b[0m in \u001b[0;36mwrapper\u001b[0;34m(*args, **kw)\u001b[0m\n\u001b[1;32m    741\u001b[0m \u001b[0;34m\u001b[0m\u001b[0m\n\u001b[1;32m    742\u001b[0m     \u001b[0;32mdef\u001b[0m \u001b[0mwrapper\u001b[0m\u001b[0;34m(\u001b[0m\u001b[0;34m*\u001b[0m\u001b[0margs\u001b[0m\u001b[0;34m,\u001b[0m \u001b[0;34m**\u001b[0m\u001b[0mkw\u001b[0m\u001b[0;34m)\u001b[0m\u001b[0;34m:\u001b[0m\u001b[0;34m\u001b[0m\u001b[0m\n\u001b[0;32m--> 743\u001b[0;31m         \u001b[0;32mreturn\u001b[0m \u001b[0mdispatch\u001b[0m\u001b[0;34m(\u001b[0m\u001b[0margs\u001b[0m\u001b[0;34m[\u001b[0m\u001b[0;36m0\u001b[0m\u001b[0;34m]\u001b[0m\u001b[0;34m.\u001b[0m\u001b[0m__class__\u001b[0m\u001b[0;34m)\u001b[0m\u001b[0;34m(\u001b[0m\u001b[0;34m*\u001b[0m\u001b[0margs\u001b[0m\u001b[0;34m,\u001b[0m \u001b[0;34m**\u001b[0m\u001b[0mkw\u001b[0m\u001b[0;34m)\u001b[0m\u001b[0;34m\u001b[0m\u001b[0m\n\u001b[0m\u001b[1;32m    744\u001b[0m \u001b[0;34m\u001b[0m\u001b[0m\n\u001b[1;32m    745\u001b[0m     \u001b[0mregistry\u001b[0m\u001b[0;34m[\u001b[0m\u001b[0mobject\u001b[0m\u001b[0;34m]\u001b[0m \u001b[0;34m=\u001b[0m \u001b[0mfunc\u001b[0m\u001b[0;34m\u001b[0m\u001b[0m\n",
      "\u001b[0;32m<ipython-input-45-f1d0fe118cd1>\u001b[0m in \u001b[0;36m_\u001b[0;34m(func)\u001b[0m\n\u001b[1;32m     40\u001b[0m \u001b[0;34m@\u001b[0m\u001b[0munparse\u001b[0m\u001b[0;34m.\u001b[0m\u001b[0mregister\u001b[0m\u001b[0;34m(\u001b[0m\u001b[0mt\u001b[0m\u001b[0;34m(\u001b[0m\u001b[0;34m'FuncCall'\u001b[0m\u001b[0;34m)\u001b[0m\u001b[0;34m)\u001b[0m\u001b[0;34m\u001b[0m\u001b[0m\n\u001b[1;32m     41\u001b[0m \u001b[0;32mdef\u001b[0m \u001b[0m_\u001b[0m\u001b[0;34m(\u001b[0m\u001b[0mfunc\u001b[0m\u001b[0;34m)\u001b[0m\u001b[0;34m:\u001b[0m\u001b[0;34m\u001b[0m\u001b[0m\n\u001b[0;32m---> 42\u001b[0;31m     \u001b[0;36m1\u001b[0m\u001b[0;34m/\u001b[0m\u001b[0;36m0\u001b[0m\u001b[0;34m\u001b[0m\u001b[0m\n\u001b[0m\u001b[1;32m     43\u001b[0m     \u001b[0;32mreturn\u001b[0m \u001b[0mfunc\u001b[0m\u001b[0;34m.\u001b[0m\u001b[0mfunc\u001b[0m \u001b[0;34m+\u001b[0m \u001b[0;34m'('\u001b[0m \u001b[0;34m+\u001b[0m \u001b[0munparse\u001b[0m\u001b[0;34m(\u001b[0m\u001b[0mfunc\u001b[0m\u001b[0;34m.\u001b[0m\u001b[0margs\u001b[0m\u001b[0;34m)\u001b[0m \u001b[0;34m+\u001b[0m \u001b[0;34m')'\u001b[0m\u001b[0;34m\u001b[0m\u001b[0m\n\u001b[1;32m     44\u001b[0m \u001b[0;34m\u001b[0m\u001b[0m\n",
      "\u001b[0;31mZeroDivisionError\u001b[0m: division by zero"
     ]
    }
   ],
   "source": [
    "print(mm.model_from_str('a=1+sin(1)').statements[0].expr)\n",
    "print(unparse(mm.model_from_str('a=sin(1)+1').statements[0].expr))\n",
    "unparse(mm.model_from_str('x=(1+1)*2*sin(exp(x)/2)'))\n"
   ]
  },
  {
   "cell_type": "code",
   "execution_count": null,
   "metadata": {
    "collapsed": false,
    "deletable": true,
    "editable": true
   },
   "outputs": [],
   "source": []
  },
  {
   "cell_type": "code",
   "execution_count": null,
   "metadata": {
    "collapsed": true,
    "deletable": true,
    "editable": true
   },
   "outputs": [],
   "source": []
  }
 ],
 "metadata": {
  "kernelspec": {
   "display_name": "Python 3",
   "language": "python",
   "name": "python3"
  },
  "language_info": {
   "codemirror_mode": {
    "name": "ipython",
    "version": 3
   },
   "file_extension": ".py",
   "mimetype": "text/x-python",
   "name": "python",
   "nbconvert_exporter": "python",
   "pygments_lexer": "ipython3",
   "version": "3.5.1"
  }
 },
 "nbformat": 4,
 "nbformat_minor": 0
}
