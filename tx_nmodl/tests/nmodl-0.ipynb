{
 "cells": [
  {
   "cell_type": "code",
   "execution_count": 2,
   "metadata": {
    "collapsed": true,
    "deletable": true,
    "editable": true
   },
   "outputs": [],
   "source": [
    "from functools import singledispatch\n",
    "from textx import metamodel"
   ]
  },
  {
   "cell_type": "code",
   "execution_count": 31,
   "metadata": {
    "collapsed": false,
    "deletable": true,
    "editable": true
   },
   "outputs": [
    {
     "name": "stdout",
     "output_type": "stream",
     "text": [
      "nanananannan \n"
     ]
    },
    {
     "data": {
      "text/plain": [
       "<textx:Program object at 0x10f538a58>"
      ]
     },
     "execution_count": 31,
     "metadata": {},
     "output_type": "execute_result"
    }
   ],
   "source": [
    "class NModlLems(object):\n",
    "    def __init__(self):\n",
    "        self.mm = metamodel.metamodel_from_str('''\n",
    "        Program: (neuron=Neuron |  title=Title)*;\n",
    "        Title: 'TITLE' title=/.*/;\n",
    "        Suffix:\n",
    "        Neuron: 'NEURON' '{' '}';\n",
    "        \n",
    "        ''')\n",
    "        self.mm.register_obj_processors({\n",
    "            'Title': self.handle_title\n",
    "        })\n",
    "    def handle_title(self, title):\n",
    "        print(title.title)\n",
    "\n",
    "    def compile(self, string):\n",
    "        return self.mm.model_from_str(string)\n",
    "\n",
    "NModlLems().compile(' \\n TITLE nanananannan \\nNEURON {}')"
   ]
  },
  {
   "cell_type": "code",
   "execution_count": null,
   "metadata": {
    "collapsed": false,
    "deletable": true,
    "editable": true
   },
   "outputs": [],
   "source": []
  },
  {
   "cell_type": "code",
   "execution_count": null,
   "metadata": {
    "collapsed": true,
    "deletable": true,
    "editable": true
   },
   "outputs": [],
   "source": []
  },
  {
   "cell_type": "code",
   "execution_count": null,
   "metadata": {
    "collapsed": false,
    "deletable": true,
    "editable": true
   },
   "outputs": [],
   "source": []
  },
  {
   "cell_type": "code",
   "execution_count": null,
   "metadata": {
    "collapsed": true,
    "deletable": true,
    "editable": true
   },
   "outputs": [],
   "source": []
  }
 ],
 "metadata": {
  "kernelspec": {
   "display_name": "Python 3",
   "language": "python",
   "name": "python3"
  },
  "language_info": {
   "codemirror_mode": {
    "name": "ipython",
    "version": 3
   },
   "file_extension": ".py",
   "mimetype": "text/x-python",
   "name": "python",
   "nbconvert_exporter": "python",
   "pygments_lexer": "ipython3",
   "version": "3.5.1"
  }
 },
 "nbformat": 4,
 "nbformat_minor": 0
}
